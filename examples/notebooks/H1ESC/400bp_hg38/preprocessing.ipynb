{
 "cells": [
  {
   "cell_type": "code",
   "execution_count": 1,
   "metadata": {
    "collapsed": false
   },
   "outputs": [],
   "source": [
    "import evautils\n",
    "import os\n",
    "from evautils import benchmarkingcontroller\n",
    "from evautils import dirutils\n",
    "from evautils import match_gc_content\n",
    "from evautils import fasta_to_bed\n",
    "from evautils import osutils\n",
    "from evautils import sequtils"
   ]
  },
  {
   "cell_type": "code",
   "execution_count": 2,
   "metadata": {
    "collapsed": false
   },
   "outputs": [],
   "source": [
    "CELL_LINE = 'H1ESC'\n",
    "REGION_SIZE = 400\n",
    "POS_PREFIX = CELL_LINE +'_' + str(REGION_SIZE)\n",
    "NEG_PREFIX = 'universal_dnase_' + str(REGION_SIZE)\n",
    "MASTER_DIR='/users/eprakash/benchmarking/H1ESC'\n",
    "BASE_DIR = MASTER_DIR+'/400bp_hg38'\n",
    "POS_NARROW_PEAKS = '/users/eprakash/projects/benchmarking/newdata/H1ESC/optimal_peak.narrowPeak.gz'\n",
    "GENOME_FILE = '/users/eprakash/benchmarking/GRCh38_no_alt_analysis_set_GCA_000001405.15.fasta'\n",
    "NEG_BED_FILE = '/users/eprakash/projects/benchmarking/newdata/H1ESC/universal_dnase_narrowPeaks_bedfile_400bp.gz'"
   ]
  },
  {
   "cell_type": "code",
   "execution_count": 3,
   "metadata": {
    "collapsed": false
   },
   "outputs": [],
   "source": [
    "#dirutils.createDir(MASTER_DIR)\n",
    "#dirutils.createDir(BASE_DIR)"
   ]
  },
  {
   "cell_type": "code",
   "execution_count": 4,
   "metadata": {
    "collapsed": true
   },
   "outputs": [],
   "source": [
    "dirutils.copyFileToWorkingDir(POS_NARROW_PEAKS, BASE_DIR)\n",
    "dirutils.copyFileToWorkingDir(NEG_BED_FILE, BASE_DIR)\n",
    "#dirutils.copyFileToWorkingDir(GENOME_FILE, BASE_DIR)"
   ]
  },
  {
   "cell_type": "code",
   "execution_count": 5,
   "metadata": {
    "collapsed": true
   },
   "outputs": [],
   "source": [
    "POS_NARROW_PEAKS=BASE_DIR + '/' + dirutils.getFileNameFromPath(POS_NARROW_PEAKS)\n",
    "#GENOME_FILE=BASE_DIR + '/' + dirutils.getFileNameFromPath(GENOME_FILE)\n",
    "NEG_BED_FILE = BASE_DIR + '/' + dirutils.getFileNameFromPath(NEG_BED_FILE)"
   ]
  },
  {
   "cell_type": "code",
   "execution_count": 6,
   "metadata": {
    "collapsed": false
   },
   "outputs": [],
   "source": [
    "posBedFile = BASE_DIR + '/' + POS_PREFIX + '.bed'\n",
    "benchmarkingcontroller.narrowPeaksToBed(POS_NARROW_PEAKS, REGION_SIZE, posBedFile)"
   ]
  },
  {
   "cell_type": "code",
   "execution_count": 7,
   "metadata": {
    "collapsed": false
   },
   "outputs": [],
   "source": [
    "noPosNegBedFile = BASE_DIR + '/' + 'no_' + CELL_LINE + '_' + NEG_PREFIX + '.bed'\n",
    "benchmarkingcontroller.getExclusiveSets(posBedFile + '.gz', NEG_BED_FILE, noPosNegBedFile)"
   ]
  },
  {
   "cell_type": "code",
   "execution_count": 8,
   "metadata": {
    "collapsed": false
   },
   "outputs": [],
   "source": [
    "posFastaFile = BASE_DIR + '/' + POS_PREFIX + '.fa'\n",
    "benchmarkingcontroller.getFasta(GENOME_FILE, posBedFile, posFastaFile)"
   ]
  },
  {
   "cell_type": "code",
   "execution_count": 9,
   "metadata": {
    "collapsed": false
   },
   "outputs": [],
   "source": [
    "negFastaFile = BASE_DIR + '/' + NEG_PREFIX + '.fa'\n",
    "benchmarkingcontroller.getFasta(GENOME_FILE, noPosNegBedFile, negFastaFile)"
   ]
  },
  {
   "cell_type": "code",
   "execution_count": null,
   "metadata": {
    "collapsed": false,
    "scrolled": true
   },
   "outputs": [
    {
     "name": "stdout",
     "output_type": "stream",
     "text": [
      "#Loading /users/eprakash/benchmarking/H1ESC/400bp_hg38/H1ESC_400.fa ...\n",
      "#Loaded 96663 sequences from /users/eprakash/benchmarking/H1ESC/400bp_hg38/H1ESC_400.fa\n",
      "#Loading /users/eprakash/benchmarking/H1ESC/400bp_hg38/universal_dnase_400.fa ...\n",
      "#Loaded 1045470 sequences from /users/eprakash/benchmarking/H1ESC/400bp_hg38/universal_dnase_400.fa\n"
     ]
    },
    {
     "data": {
      "image/png": "[encoded data removed]",
      "text/plain": [
       "<matplotlib.figure.Figure at 0x7f05fa15aa10>"
      ]
     },
     "metadata": {},
     "output_type": "display_data"
    }
   ],
   "source": [
    "matchedNegFastaFile = BASE_DIR + '/' + 'matched_' + 'no_' + CELL_LINE + '_' + NEG_PREFIX + '.fa'\n",
    "match_gc_content.match_gc_content(posFastaFile, negFastaFile, matchedNegFastaFile)"
   ]
  },
  {
   "cell_type": "code",
   "execution_count": null,
   "metadata": {
    "collapsed": false,
    "scrolled": true
   },
   "outputs": [
    {
     "name": "stdout",
     "output_type": "stream",
     "text": [
      "\n",
      "Selected Options:\n",
      "Input file = /users/eprakash/benchmarking/H1ESC/400bp_hg38/H1ESC_400.fa\n",
      "Promoter Set = fasta\n",
      "Output Directory = /users/eprakash/benchmarking/H1ESC/400bp_hg38/H1ESC_400_motifs\n",
      "Will use FASTA files for motif finding\n",
      "Target Sequences = /users/eprakash/benchmarking/H1ESC/400bp_hg38/H1ESC_400.fa\n",
      "Background Sequences = /users/eprakash/benchmarking/H1ESC/400bp_hg38/matched_no_H1ESC_universal_dnase_400.fa\n",
      "Parsing FASTA format files...\n",
      "Found 96663 sequences\n",
      "Found 96663 sequences\n",
      "\n",
      "Progress: Step4 - removing redundant promoters\n",
      "\n",
      "Progress: Step5 - adjusting background sequences for GC/CpG content...\n",
      "\n",
      "Sequences processed:\n",
      "Auto detected maximum sequence length of 400 bp\n",
      "100000\n",
      "193326 total\n",
      "\n",
      "Frequency Bins: 0.2 0.25 0.3 0.35 0.4 0.45 0.5 0.6 0.7 0.8\n",
      "Freq\tBin\tCount\n",
      "0.2\t0\t3\n",
      "0.25\t1\t29\n",
      "0.3\t2\t128\n",
      "0.35\t3\t2002\n",
      "0.4\t4\t9962\n",
      "0.45\t5\t22801\n",
      "0.5\t6\t30147\n",
      "0.6\t7\t68348\n",
      "0.7\t8\t46377\n",
      "0.8\t9\t12631\n",
      "10\t10\t898\n",
      "Bin\t# Targets\t# Background\tBackground Weight\n",
      "0\t1\t2\t0.500\n",
      "1\t15\t14\t1.071\n",
      "2\t64\t64\t1.000\n",
      "3\t1001\t1001\t1.000\n",
      "4\t4981\t4981\t1.000\n",
      "5\t11400\t11401\t1.000\n",
      "6\t15073\t15074\t1.000\n",
      "7\t29372\t38976\t0.754\n",
      "8\t23822\t22555\t1.056\n",
      "9\t10334\t2297\t4.499\n",
      "10\t600\t298\t2.013\n",
      "\n",
      "Normalizing lower order oligos using homer2\n",
      "\n",
      "Reading input files...\n",
      "193326 total sequences read\n",
      "Autonormalization: 1-mers (4 total)\n",
      "A\t22.17%\t22.21%\t0.998\n",
      "C\t27.83%\t27.79%\t1.001\n",
      "G\t27.83%\t27.79%\t1.001\n",
      "T\t22.17%\t22.21%\t0.998\n",
      "Autonormalization: 2-mers (16 total)\n",
      "AA\t6.01%\t5.46%\t1.101\n",
      "CA\t6.77%\t7.59%\t0.893\n",
      "GA\t6.09%\t6.05%\t1.006\n",
      "TA\t3.28%\t3.10%\t1.059\n",
      "AC\t4.62%\t4.85%\t0.952\n",
      "CC\t9.18%\t9.45%\t0.972\n",
      "GC\t7.95%\t7.44%\t1.068\n",
      "TC\t6.09%\t6.05%\t1.006\n",
      "AG\t7.56%\t7.77%\t0.974\n",
      "CG\t4.32%\t2.99%\t1.444\n",
      "GG\t9.18%\t9.45%\t0.972\n",
      "TG\t6.77%\t7.59%\t0.893\n",
      "AT\t3.97%\t4.12%\t0.964\n",
      "CT\t7.56%\t7.77%\t0.974\n",
      "GT\t4.62%\t4.85%\t0.952\n",
      "TT\t6.01%\t5.46%\t1.101\n",
      "Autonormalization: 3-mers (64 total)\n",
      "Normalization weights can be found in file: /users/eprakash/benchmarking/H1ESC/400bp_hg38/H1ESC_400_motifs/seq.autonorm.tsv\n",
      "Converging on autonormalization solution:\n"
     ]
    }
   ],
   "source": [
    "posMotifDir = BASE_DIR + '/' + POS_PREFIX + '_motifs'\n",
    "benchmarkingcontroller.runHomer(posFastaFile, matchedNegFastaFile, posMotifDir)"
   ]
  },
  {
   "cell_type": "code",
   "execution_count": null,
   "metadata": {
    "collapsed": false
   },
   "outputs": [],
   "source": [
    "posMotifMatches = BASE_DIR + '/' + POS_PREFIX + '_motif_matches.txt'\n",
    "benchmarkingcontroller.scanMotifGenomeWide(posMotifDir+'/homerMotifs.all.motifs', posFastaFile, posMotifMatches)"
   ]
  },
  {
   "cell_type": "code",
   "execution_count": null,
   "metadata": {
    "collapsed": false
   },
   "outputs": [],
   "source": [
    "implantedPosFastaFile = BASE_DIR + '/' + 'implanted_' + POS_PREFIX + '.fa'\n",
    "benchmarkingcontroller.shuffle_seqs_and_implant_motifs(posFastaFile, posMotifMatches, implantedPosFastaFile)"
   ]
  },
  {
   "cell_type": "code",
   "execution_count": null,
   "metadata": {
    "collapsed": false
   },
   "outputs": [],
   "source": [
    "implantedPosBedFile = BASE_DIR + '/' + 'implanted_' + POS_PREFIX + '.bed'\n",
    "fasta_to_bed.convert(implantedPosFastaFile, implantedPosBedFile)"
   ]
  },
  {
   "cell_type": "code",
   "execution_count": null,
   "metadata": {
    "collapsed": false
   },
   "outputs": [],
   "source": [
    "matchedNegBedFile = BASE_DIR + '/' + 'matched_' + 'no_' + CELL_LINE + '_' + NEG_PREFIX + '.bed'\n",
    "fasta_to_bed.convert(matchedNegFastaFile, matchedNegBedFile)"
   ]
  },
  {
   "cell_type": "code",
   "execution_count": null,
   "metadata": {
    "collapsed": false
   },
   "outputs": [],
   "source": [
    "os.system('gzip ' + implantedPosBedFile)\n",
    "os.system('gzip ' + matchedNegBedFile)"
   ]
  },
  {
   "cell_type": "code",
   "execution_count": null,
   "metadata": {
    "collapsed": true
   },
   "outputs": [],
   "source": []
  }
 ],
 "metadata": {
  "anaconda-cloud": {},
  "kernelspec": {
   "display_name": "Python [default]",
   "language": "python",
   "name": "python2"
  },
  "language_info": {
   "codemirror_mode": {
    "name": "ipython",
    "version": 2
   },
   "file_extension": ".py",
   "mimetype": "text/x-python",
   "name": "python",
   "nbconvert_exporter": "python",
   "pygments_lexer": "ipython2",
   "version": "2.7.12"
  }
 },
 "nbformat": 4,
 "nbformat_minor": 2
}
