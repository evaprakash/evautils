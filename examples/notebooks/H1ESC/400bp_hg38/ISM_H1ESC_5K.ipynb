{
 "cells": [
  {
   "cell_type": "code",
   "execution_count": 1,
   "metadata": {
    "collapsed": true
   },
   "outputs": [],
   "source": [
    "from __future__ import print_function\n",
    "import os\n",
    "os.environ[\"CUDA_VISIBLE_DEVICES\"] = \"3\""
   ]
  },
  {
   "cell_type": "code",
   "execution_count": 2,
   "metadata": {
    "collapsed": false
   },
   "outputs": [
    {
     "name": "stderr",
     "output_type": "stream",
     "text": [
      "Using TensorFlow backend.\n"
     ]
    }
   ],
   "source": [
    "import evautils\n",
    "from evautils import sequtils\n",
    "from evautils import kerasutils"
   ]
  },
  {
   "cell_type": "code",
   "execution_count": 3,
   "metadata": {
    "collapsed": false
   },
   "outputs": [],
   "source": [
    "POSITIVE_SEQUENCES_FILE=\"/users/eprakash/benchmarking/H1ESC/400bp_hg38/preprocessing/implanted_H1ESC_400.bed.gz\"\n",
    "POSITIVE_SEQUENCES_5K_SUBSET_LABELS=\"/users/eprakash/benchmarking/H1ESC/400bp_hg38/deeplift/H1ESC_400_top_5K_pos_labels.h5\"\n",
    "ISM_LABELS_FILE=\"/users/eprakash/benchmarking/H1ESC/400bp_hg38/results/ISM_deepseabeluga_H1ESC_positive.labels.5K.txt\"\n",
    "MOMMA_DRAGONN_MODEL_FILE=\"/users/eprakash/benchmarking/H1ESC/400bp_hg38/training/momma_dragonn/examples/fasta_sequential_model/model_files/record_1_model_XHjBt_modelJson.json\"\n",
    "MOMMA_DRAGONN_WEIGHTS_FILE=\"/users/eprakash/benchmarking/H1ESC/400bp_hg38/training/momma_dragonn/examples/fasta_sequential_model/model_files/record_1_model_XHjBt_modelWeights.h5\"\n",
    "DEEPLIFT_SCORES_FILE=\"/users/eprakash/benchmarking/H1ESC/400bp_hg38/deeplift/H1ESC_400_dl_scores_5K.h5\"\n",
    "ISM_SCORES_FILE=\"/users/eprakash/benchmarking/H1ESC/400bp_hg38/results/H1ESC.deepseabeluga.ISM.scores.5K.npy\""
   ]
  },
  {
   "cell_type": "code",
   "execution_count": 4,
   "metadata": {
    "collapsed": false
   },
   "outputs": [
    {
     "name": "stdout",
     "output_type": "stream",
     "text": [
      "#Loading /users/eprakash/benchmarking/H1ESC/400bp_hg38/preprocessing/implanted_H1ESC_400.bed.gz ...\n",
      "#Loaded 96663 sequences from /users/eprakash/benchmarking/H1ESC/400bp_hg38/preprocessing/implanted_H1ESC_400.bed.gz\n",
      "#Loading /users/eprakash/benchmarking/H1ESC/400bp_hg38/preprocessing/implanted_H1ESC_400.bed.gz ...\n",
      "#Loaded 96663 sequences from /users/eprakash/benchmarking/H1ESC/400bp_hg38/preprocessing/implanted_H1ESC_400.bed.gz\n",
      "Got 96663 positive sequences\n",
      "Selected 5000 positive sequences\n",
      "Sequences length:  5000\n"
     ]
    }
   ],
   "source": [
    "import numpy as np\n",
    "from collections import OrderedDict\n",
    "import h5py\n",
    "\n",
    "positives=sequtils.load_sequences_from_bedfile(POSITIVE_SEQUENCES_FILE)\n",
    "labeled_sequences = sequtils.load_sequences_from_bedfile(POSITIVE_SEQUENCES_FILE)\n",
    "print(\"Got %d positive sequences\" % len(labeled_sequences))\n",
    "\n",
    "#Prune labeled sequences down to the 5K selected labels used in the other scoring methods\n",
    "h5f = h5py.File(POSITIVE_SEQUENCES_5K_SUBSET_LABELS,'r')\n",
    "positive_labels_5K=set(h5f.get(\"labels\"))\n",
    "selected_sequences = OrderedDict()\n",
    "for lbl in labeled_sequences.keys():\n",
    "    if (lbl in positive_labels_5K):\n",
    "        selected_sequences.update({lbl:labeled_sequences[lbl]})\n",
    "labeled_sequences = selected_sequences\n",
    "        \n",
    "print(\"Selected %d positive sequences\" % len(labeled_sequences))\n",
    "positive_labels = labeled_sequences.keys()\n",
    "labels = labeled_sequences.keys()\n",
    "sequences=labeled_sequences.values()\n",
    "print(\"Sequences length: \", len(sequences))"
   ]
  },
  {
   "cell_type": "code",
   "execution_count": 5,
   "metadata": {
    "collapsed": false
   },
   "outputs": [
    {
     "name": "stdout",
     "output_type": "stream",
     "text": [
      "5000\n",
      "5000\n",
      "5000\n",
      "5000\n"
     ]
    }
   ],
   "source": [
    "sequtils.removeUnsupportedChars(sequences, labels, labeled_sequences)"
   ]
  },
  {
   "cell_type": "code",
   "execution_count": 6,
   "metadata": {
    "collapsed": false
   },
   "outputs": [
    {
     "name": "stdout",
     "output_type": "stream",
     "text": [
      "<class 'collections.OrderedDict'>\n"
     ]
    }
   ],
   "source": [
    "sequtils.save_labels(labeled_sequences, ISM_LABELS_FILE)"
   ]
  },
  {
   "cell_type": "code",
   "execution_count": 7,
   "metadata": {
    "collapsed": false
   },
   "outputs": [
    {
     "name": "stdout",
     "output_type": "stream",
     "text": [
      "(5000, 400, 4)\n"
     ]
    }
   ],
   "source": [
    "onehot_data = np.array([sequtils.one_hot_encode_along_channel_axis(seq) for seq in sequences])\n",
    "print(onehot_data.shape)"
   ]
  },
  {
   "cell_type": "code",
   "execution_count": 8,
   "metadata": {
    "collapsed": false
   },
   "outputs": [
    {
     "name": "stdout",
     "output_type": "stream",
     "text": [
      "Loading Keras JSON model from file /users/eprakash/benchmarking/H1ESC/400bp_hg38/training/momma_dragonn/examples/fasta_sequential_model/model_files/record_1_model_XHjBt_modelJson.json\n",
      "Loading Keras model weights from file /users/eprakash/benchmarking/H1ESC/400bp_hg38/training/momma_dragonn/examples/fasta_sequential_model/model_files/record_1_model_XHjBt_modelWeights.h5\n",
      "Successfully loaded\n",
      "Model: \"sequential_1\"\n",
      "_________________________________________________________________\n",
      "Layer (type)                 Output Shape              Param #   \n",
      "=================================================================\n",
      "conv1d_1 (Conv1D)            (None, 393, 320)          10560     \n",
      "_________________________________________________________________\n",
      "activation_1 (Activation)    (None, 393, 320)          0         \n",
      "_________________________________________________________________\n",
      "conv1d_2 (Conv1D)            (None, 386, 320)          819520    \n",
      "_________________________________________________________________\n",
      "activation_2 (Activation)    (None, 386, 320)          0         \n",
      "_________________________________________________________________\n",
      "dropout_1 (Dropout)          (None, 386, 320)          0         \n",
      "_________________________________________________________________\n",
      "max_pooling1d_1 (MaxPooling1 (None, 96, 320)           0         \n",
      "_________________________________________________________________\n",
      "conv1d_3 (Conv1D)            (None, 89, 480)           1229280   \n",
      "_________________________________________________________________\n",
      "activation_3 (Activation)    (None, 89, 480)           0         \n",
      "_________________________________________________________________\n",
      "conv1d_4 (Conv1D)            (None, 82, 480)           1843680   \n",
      "_________________________________________________________________\n",
      "activation_4 (Activation)    (None, 82, 480)           0         \n",
      "_________________________________________________________________\n",
      "dropout_2 (Dropout)          (None, 82, 480)           0         \n",
      "_________________________________________________________________\n",
      "max_pooling1d_2 (MaxPooling1 (None, 20, 480)           0         \n",
      "_________________________________________________________________\n",
      "conv1d_5 (Conv1D)            (None, 13, 640)           2458240   \n",
      "_________________________________________________________________\n",
      "activation_5 (Activation)    (None, 13, 640)           0         \n",
      "_________________________________________________________________\n",
      "conv1d_6 (Conv1D)            (None, 6, 640)            3277440   \n",
      "_________________________________________________________________\n",
      "activation_6 (Activation)    (None, 6, 640)            0         \n",
      "_________________________________________________________________\n",
      "flatten_1 (Flatten)          (None, 3840)              0         \n",
      "_________________________________________________________________\n",
      "dense_1 (Dense)              (None, 2003)              7693523   \n",
      "_________________________________________________________________\n",
      "activation_7 (Activation)    (None, 2003)              0         \n",
      "_________________________________________________________________\n",
      "newdense (Dense)             (None, 1)                 2004      \n",
      "_________________________________________________________________\n",
      "activation_8 (Activation)    (None, 1)                 0         \n",
      "=================================================================\n",
      "Total params: 17,334,247\n",
      "Trainable params: 17,334,247\n",
      "Non-trainable params: 0\n",
      "_________________________________________________________________\n"
     ]
    }
   ],
   "source": [
    "keras_model=kerasutils.load_keras_model_using_json(MOMMA_DRAGONN_MODEL_FILE, MOMMA_DRAGONN_WEIGHTS_FILE)\n",
    "keras_model.summary()"
   ]
  },
  {
   "cell_type": "code",
   "execution_count": 9,
   "metadata": {
    "collapsed": false
   },
   "outputs": [
    {
     "data": {
      "text/plain": [
       "(5000, 1)"
      ]
     },
     "execution_count": 9,
     "metadata": {},
     "output_type": "execute_result"
    }
   ],
   "source": [
    "preds = keras_model.predict(onehot_data)\n",
    "preds.shape"
   ]
  },
  {
   "cell_type": "code",
   "execution_count": 10,
   "metadata": {
    "collapsed": false
   },
   "outputs": [
    {
     "name": "stdout",
     "output_type": "stream",
     "text": [
      "nonlinear_mxts_mode is set to: Rescale\n",
      "Heads-up: current implementation assumes maxpool layer is followed by a linear transformation (conv/dense layer)\n",
      "Heads-up: current implementation assumes maxpool layer is followed by a linear transformation (conv/dense layer)\n",
      "Heads-up: I assume sigmoid is the output layer, not an intermediate one; if it's an intermediate layer then please bug me and I will implement the grad func\n"
     ]
    }
   ],
   "source": [
    "import deeplift\n",
    "from deeplift.conversion import kerasapi_conversion as kc\n",
    "from deeplift.layers import NonlinearMxtsMode\n",
    "\n",
    "deeplift_rescale_model = kerasutils.createDLModel(MOMMA_DRAGONN_WEIGHTS_FILE, MOMMA_DRAGONN_MODEL_FILE, NonlinearMxtsMode.Rescale)"
   ]
  },
  {
   "cell_type": "code",
   "execution_count": 11,
   "metadata": {
    "collapsed": false
   },
   "outputs": [
    {
     "data": {
      "text/plain": [
       "(None, 1)"
      ]
     },
     "execution_count": 11,
     "metadata": {},
     "output_type": "execute_result"
    }
   ],
   "source": [
    "deeplift_rescale_model.get_layers()[-2].get_shape()"
   ]
  },
  {
   "cell_type": "code",
   "execution_count": 12,
   "metadata": {
    "collapsed": false
   },
   "outputs": [],
   "source": [
    "import h5py\n",
    "h5f = h5py.File(DEEPLIFT_SCORES_FILE,'r')"
   ]
  },
  {
   "cell_type": "code",
   "execution_count": 13,
   "metadata": {
    "collapsed": true
   },
   "outputs": [],
   "source": [
    "rescale_all_multiref_scores=np.array(h5f.get(\"rescale_all_layers_multiref_10\"))\n",
    "h5f.close()"
   ]
  },
  {
   "cell_type": "code",
   "execution_count": 14,
   "metadata": {
    "collapsed": false
   },
   "outputs": [
    {
     "data": {
      "text/plain": [
       "(5000, 400)"
      ]
     },
     "execution_count": 14,
     "metadata": {},
     "output_type": "execute_result"
    }
   ],
   "source": [
    "rescale_all_multiref_scores.shape"
   ]
  },
  {
   "cell_type": "code",
   "execution_count": 15,
   "metadata": {
    "collapsed": false
   },
   "outputs": [
    {
     "data": {
      "text/plain": [
       "(5000, 400, 4)"
      ]
     },
     "execution_count": 15,
     "metadata": {},
     "output_type": "execute_result"
    }
   ],
   "source": [
    "onehot_data.shape"
   ]
  },
  {
   "cell_type": "code",
   "execution_count": 16,
   "metadata": {
    "collapsed": false
   },
   "outputs": [
    {
     "data": {
      "text/plain": [
       "4999"
      ]
     },
     "execution_count": 16,
     "metadata": {},
     "output_type": "execute_result"
    }
   ],
   "source": [
    "np.argmax(np.sum(rescale_all_multiref_scores, axis=(1)))"
   ]
  },
  {
   "cell_type": "code",
   "execution_count": 17,
   "metadata": {
    "collapsed": false
   },
   "outputs": [
    {
     "data": {
      "image/png": "[encoded data removed]",
      "text/plain": [
       "<matplotlib.figure.Figure at 0x7fc896cf6c90>"
      ]
     },
     "metadata": {},
     "output_type": "display_data"
    }
   ],
   "source": [
    "%matplotlib inline\n",
    "from deeplift.visualization import viz_sequence\n",
    "idx = 4022\n",
    "viz_sequence.plot_weights(rescale_all_multiref_scores[idx][:,None]*onehot_data[idx], subticks_frequency=50)"
   ]
  },
  {
   "cell_type": "code",
   "execution_count": 18,
   "metadata": {
    "collapsed": true
   },
   "outputs": [],
   "source": [
    "deeplift_prediction_func = deeplift.util.compile_func(\n",
    "    inputs=[deeplift_rescale_model.get_layers()[0].get_activation_vars()],\n",
    "    outputs=deeplift_rescale_model.get_layers()[-2].get_activation_vars()[:,0])"
   ]
  },
  {
   "cell_type": "code",
   "execution_count": 19,
   "metadata": {
    "collapsed": true
   },
   "outputs": [],
   "source": [
    "ism_func = kerasutils.make_ism_func(prediction_func=deeplift_prediction_func,\n",
    "                         flank_around_middle_to_perturb=200,\n",
    "                         batch_size=200)"
   ]
  },
  {
   "cell_type": "code",
   "execution_count": 20,
   "metadata": {
    "collapsed": false
   },
   "outputs": [],
   "source": [
    "scores_ism_oneregion = ism_func([onehot_data[idx:idx+1]])"
   ]
  },
  {
   "cell_type": "code",
   "execution_count": 21,
   "metadata": {
    "collapsed": false
   },
   "outputs": [
    {
     "data": {
      "text/plain": [
       "(1, 400, 4)"
      ]
     },
     "execution_count": 21,
     "metadata": {},
     "output_type": "execute_result"
    }
   ],
   "source": [
    "scores_ism_oneregion.shape"
   ]
  },
  {
   "cell_type": "code",
   "execution_count": 22,
   "metadata": {
    "collapsed": false
   },
   "outputs": [
    {
     "data": {
      "image/png": "[encoded data removed]",
      "text/plain": [
       "<matplotlib.figure.Figure at 0x7fc89c6b7690>"
      ]
     },
     "metadata": {},
     "output_type": "display_data"
    }
   ],
   "source": [
    "viz_sequence.plot_weights(scores_ism_oneregion[0], subticks_frequency=50)"
   ]
  },
  {
   "cell_type": "code",
   "execution_count": 23,
   "metadata": {
    "collapsed": false
   },
   "outputs": [],
   "source": [
    "#kerasutils.sanityCheckGivenPredFunc(deeplift_prediction_func, onehot_data, keras_model)"
   ]
  },
  {
   "cell_type": "code",
   "execution_count": 24,
   "metadata": {
    "collapsed": false
   },
   "outputs": [
    {
     "name": "stdout",
     "output_type": "stream",
     "text": [
      "('Done', 10000)\n",
      "('Done', 20000)\n",
      "('Done', 30000)\n",
      "('Done', 40000)\n",
      "('Done', 50000)\n",
      "('Done', 60000)\n",
      "('Done', 70000)\n",
      "('Done', 80000)\n",
      "('Done', 90000)\n",
      "('Done', 100000)\n",
      "('Done', 110000)\n",
      "('Done', 120000)\n",
      "('Done', 130000)\n",
      "('Done', 140000)\n",
      "('Done', 150000)\n",
      "('Done', 160000)\n",
      "('Done', 170000)\n",
      "('Done', 180000)\n",
      "('Done', 190000)\n",
      "('Done', 200000)\n",
      "('Done', 210000)\n",
      "('Done', 220000)\n",
      "('Done', 230000)\n",
      "('Done', 240000)\n",
      "('Done', 250000)\n",
      "('Done', 260000)\n",
      "('Done', 270000)\n",
      "('Done', 280000)\n",
      "('Done', 290000)\n",
      "('Done', 300000)\n",
      "('Done', 310000)\n",
      "('Done', 320000)\n",
      "('Done', 330000)\n",
      "('Done', 340000)\n",
      "('Done', 350000)\n",
      "('Done', 360000)\n",
      "('Done', 370000)\n",
      "('Done', 380000)\n",
      "('Done', 390000)\n",
      "('Done', 400000)\n",
      "('Done', 410000)\n",
      "('Done', 420000)\n",
      "('Done', 430000)\n",
      "('Done', 440000)\n",
      "('Done', 450000)\n",
      "('Done', 460000)\n",
      "('Done', 470000)\n",
      "('Done', 480000)\n",
      "('Done', 490000)\n",
      "('Done', 500000)\n",
      "('Done', 510000)\n",
      "('Done', 520000)\n",
      "('Done', 530000)\n",
      "('Done', 540000)\n",
      "('Done', 550000)\n",
      "('Done', 560000)\n",
      "('Done', 570000)\n",
      "('Done', 580000)\n",
      "('Done', 590000)\n",
      "('Done', 600000)\n",
      "('Done', 610000)\n",
      "('Done', 620000)\n",
      "('Done', 630000)\n",
      "('Done', 640000)\n",
      "('Done', 650000)\n",
      "('Done', 660000)\n",
      "('Done', 670000)\n",
      "('Done', 680000)\n",
      "('Done', 690000)\n",
      "('Done', 700000)\n",
      "('Done', 710000)\n",
      "('Done', 720000)\n",
      "('Done', 730000)\n",
      "('Done', 740000)\n",
      "('Done', 750000)\n",
      "('Done', 760000)\n",
      "('Done', 770000)\n",
      "('Done', 780000)\n",
      "('Done', 790000)\n",
      "('Done', 800000)\n",
      "('Done', 810000)\n",
      "('Done', 820000)\n",
      "('Done', 830000)\n",
      "('Done', 840000)\n",
      "('Done', 850000)\n",
      "('Done', 860000)\n",
      "('Done', 870000)\n",
      "('Done', 880000)\n",
      "('Done', 890000)\n",
      "('Done', 900000)\n",
      "('Done', 910000)\n",
      "('Done', 920000)\n",
      "('Done', 930000)\n",
      "('Done', 940000)\n",
      "('Done', 950000)\n",
      "('Done', 960000)\n",
      "('Done', 970000)\n",
      "('Done', 980000)\n",
      "('Done', 990000)\n",
      "('Done', 1000000)\n",
      "('Done', 1010000)\n",
      "('Done', 1020000)\n",
      "('Done', 1030000)\n",
      "('Done', 1040000)\n",
      "('Done', 1050000)\n",
      "('Done', 1060000)\n",
      "('Done', 1070000)\n",
      "('Done', 1080000)\n",
      "('Done', 1090000)\n",
      "('Done', 1100000)\n",
      "('Done', 1110000)\n",
      "('Done', 1120000)\n",
      "('Done', 1130000)\n",
      "('Done', 1140000)\n",
      "('Done', 1150000)\n",
      "('Done', 1160000)\n",
      "('Done', 1170000)\n",
      "('Done', 1180000)\n",
      "('Done', 1190000)\n",
      "('Done', 1200000)\n",
      "('Done', 1210000)\n",
      "('Done', 1220000)\n",
      "('Done', 1230000)\n",
      "('Done', 1240000)\n",
      "('Done', 1250000)\n",
      "('Done', 1260000)\n",
      "('Done', 1270000)\n",
      "('Done', 1280000)\n",
      "('Done', 1290000)\n",
      "('Done', 1300000)\n",
      "('Done', 1310000)\n",
      "('Done', 1320000)\n",
      "('Done', 1330000)\n",
      "('Done', 1340000)\n",
      "('Done', 1350000)\n",
      "('Done', 1360000)\n",
      "('Done', 1370000)\n",
      "('Done', 1380000)\n",
      "('Done', 1390000)\n",
      "('Done', 1400000)\n",
      "('Done', 1410000)\n",
      "('Done', 1420000)\n",
      "('Done', 1430000)\n",
      "('Done', 1440000)\n",
      "('Done', 1450000)\n",
      "('Done', 1460000)\n",
      "('Done', 1470000)\n",
      "('Done', 1480000)\n",
      "('Done', 1490000)\n",
      "('Done', 1500000)\n",
      "('Done', 1510000)\n",
      "('Done', 1520000)\n",
      "('Done', 1530000)\n",
      "('Done', 1540000)\n",
      "('Done', 1550000)\n",
      "('Done', 1560000)\n",
      "('Done', 1570000)\n",
      "('Done', 1580000)\n",
      "('Done', 1590000)\n",
      "('Done', 1600000)\n",
      "('Done', 1610000)\n",
      "('Done', 1620000)\n",
      "('Done', 1630000)\n",
      "('Done', 1640000)\n",
      "('Done', 1650000)\n",
      "('Done', 1660000)\n",
      "('Done', 1670000)\n",
      "('Done', 1680000)\n",
      "('Done', 1690000)\n",
      "('Done', 1700000)\n",
      "('Done', 1710000)\n",
      "('Done', 1720000)\n",
      "('Done', 1730000)\n",
      "('Done', 1740000)\n",
      "('Done', 1750000)\n",
      "('Done', 1760000)\n",
      "('Done', 1770000)\n",
      "('Done', 1780000)\n",
      "('Done', 1790000)\n",
      "('Done', 1800000)\n",
      "('Done', 1810000)\n",
      "('Done', 1820000)\n",
      "('Done', 1830000)\n",
      "('Done', 1840000)\n",
      "('Done', 1850000)\n",
      "('Done', 1860000)\n",
      "('Done', 1870000)\n",
      "('Done', 1880000)\n",
      "('Done', 1890000)\n",
      "('Done', 1900000)\n",
      "('Done', 1910000)\n",
      "('Done', 1920000)\n",
      "('Done', 1930000)\n",
      "('Done', 1940000)\n",
      "('Done', 1950000)\n",
      "('Done', 1960000)\n",
      "('Done', 1970000)\n",
      "('Done', 1980000)\n",
      "('Done', 1990000)\n",
      "('Done', 2000000)\n",
      "('Done', 2010000)\n",
      "('Done', 2020000)\n",
      "('Done', 2030000)\n",
      "('Done', 2040000)\n",
      "('Done', 2050000)\n",
      "('Done', 2060000)\n",
      "('Done', 2070000)\n",
      "('Done', 2080000)\n",
      "('Done', 2090000)\n",
      "('Done', 2100000)\n",
      "('Done', 2110000)\n",
      "('Done', 2120000)\n",
      "('Done', 2130000)\n",
      "('Done', 2140000)\n",
      "('Done', 2150000)\n",
      "('Done', 2160000)\n",
      "('Done', 2170000)\n",
      "('Done', 2180000)\n",
      "('Done', 2190000)\n",
      "('Done', 2200000)\n",
      "('Done', 2210000)\n",
      "('Done', 2220000)\n",
      "('Done', 2230000)\n",
      "('Done', 2240000)\n",
      "('Done', 2250000)\n",
      "('Done', 2260000)\n",
      "('Done', 2270000)\n",
      "('Done', 2280000)\n",
      "('Done', 2290000)\n",
      "('Done', 2300000)\n",
      "('Done', 2310000)\n",
      "('Done', 2320000)\n",
      "('Done', 2330000)\n",
      "('Done', 2340000)\n",
      "('Done', 2350000)\n",
      "('Done', 2360000)\n",
      "('Done', 2370000)\n",
      "('Done', 2380000)\n",
      "('Done', 2390000)\n",
      "('Done', 2400000)\n",
      "('Done', 2410000)\n",
      "('Done', 2420000)\n",
      "('Done', 2430000)\n",
      "('Done', 2440000)\n",
      "('Done', 2450000)\n",
      "('Done', 2460000)\n",
      "('Done', 2470000)\n",
      "('Done', 2480000)\n",
      "('Done', 2490000)\n",
      "('Done', 2500000)\n",
      "('Done', 2510000)\n",
      "('Done', 2520000)\n",
      "('Done', 2530000)\n",
      "('Done', 2540000)\n",
      "('Done', 2550000)\n",
      "('Done', 2560000)\n",
      "('Done', 2570000)\n",
      "('Done', 2580000)\n",
      "('Done', 2590000)\n",
      "('Done', 2600000)\n",
      "('Done', 2610000)\n",
      "('Done', 2620000)\n",
      "('Done', 2630000)\n",
      "('Done', 2640000)\n",
      "('Done', 2650000)\n",
      "('Done', 2660000)\n",
      "('Done', 2670000)\n",
      "('Done', 2680000)\n",
      "('Done', 2690000)\n",
      "('Done', 2700000)\n",
      "('Done', 2710000)\n",
      "('Done', 2720000)\n",
      "('Done', 2730000)\n",
      "('Done', 2740000)\n",
      "('Done', 2750000)\n",
      "('Done', 2760000)\n",
      "('Done', 2770000)\n",
      "('Done', 2780000)\n",
      "('Done', 2790000)\n",
      "('Done', 2800000)\n",
      "('Done', 2810000)\n",
      "('Done', 2820000)\n",
      "('Done', 2830000)\n",
      "('Done', 2840000)\n",
      "('Done', 2850000)\n",
      "('Done', 2860000)\n",
      "('Done', 2870000)\n",
      "('Done', 2880000)\n",
      "('Done', 2890000)\n",
      "('Done', 2900000)\n",
      "('Done', 2910000)\n",
      "('Done', 2920000)\n",
      "('Done', 2930000)\n",
      "('Done', 2940000)\n",
      "('Done', 2950000)\n",
      "('Done', 2960000)\n",
      "('Done', 2970000)\n",
      "('Done', 2980000)\n",
      "('Done', 2990000)\n",
      "('Done', 3000000)\n",
      "('Done', 3010000)\n",
      "('Done', 3020000)\n",
      "('Done', 3030000)\n",
      "('Done', 3040000)\n",
      "('Done', 3050000)\n",
      "('Done', 3060000)\n",
      "('Done', 3070000)\n",
      "('Done', 3080000)\n",
      "('Done', 3090000)\n",
      "('Done', 3100000)\n",
      "('Done', 3110000)\n",
      "('Done', 3120000)\n",
      "('Done', 3130000)\n",
      "('Done', 3140000)\n",
      "('Done', 3150000)\n",
      "('Done', 3160000)\n",
      "('Done', 3170000)\n",
      "('Done', 3180000)\n",
      "('Done', 3190000)\n",
      "('Done', 3200000)\n",
      "('Done', 3210000)\n",
      "('Done', 3220000)\n",
      "('Done', 3230000)\n",
      "('Done', 3240000)\n",
      "('Done', 3250000)\n",
      "('Done', 3260000)\n",
      "('Done', 3270000)\n",
      "('Done', 3280000)\n",
      "('Done', 3290000)\n",
      "('Done', 3300000)\n",
      "('Done', 3310000)\n",
      "('Done', 3320000)\n",
      "('Done', 3330000)\n",
      "('Done', 3340000)\n",
      "('Done', 3350000)\n",
      "('Done', 3360000)\n",
      "('Done', 3370000)\n",
      "('Done', 3380000)\n",
      "('Done', 3390000)\n",
      "('Done', 3400000)\n",
      "('Done', 3410000)\n",
      "('Done', 3420000)\n",
      "('Done', 3430000)\n",
      "('Done', 3440000)\n",
      "('Done', 3450000)\n",
      "('Done', 3460000)\n",
      "('Done', 3470000)\n",
      "('Done', 3480000)\n",
      "('Done', 3490000)\n",
      "('Done', 3500000)\n",
      "('Done', 3510000)\n",
      "('Done', 3520000)\n",
      "('Done', 3530000)\n",
      "('Done', 3540000)\n",
      "('Done', 3550000)\n",
      "('Done', 3560000)\n",
      "('Done', 3570000)\n",
      "('Done', 3580000)\n",
      "('Done', 3590000)\n",
      "('Done', 3600000)\n",
      "('Done', 3610000)\n",
      "('Done', 3620000)\n",
      "('Done', 3630000)\n",
      "('Done', 3640000)\n",
      "('Done', 3650000)\n",
      "('Done', 3660000)\n",
      "('Done', 3670000)\n",
      "('Done', 3680000)\n",
      "('Done', 3690000)\n",
      "('Done', 3700000)\n",
      "('Done', 3710000)\n",
      "('Done', 3720000)\n",
      "('Done', 3730000)\n",
      "('Done', 3740000)\n",
      "('Done', 3750000)\n",
      "('Done', 3760000)\n",
      "('Done', 3770000)\n",
      "('Done', 3780000)\n",
      "('Done', 3790000)\n",
      "('Done', 3800000)\n",
      "('Done', 3810000)\n",
      "('Done', 3820000)\n",
      "('Done', 3830000)\n",
      "('Done', 3840000)\n",
      "('Done', 3850000)\n",
      "('Done', 3860000)\n",
      "('Done', 3870000)\n",
      "('Done', 3880000)\n",
      "('Done', 3890000)\n",
      "('Done', 3900000)\n",
      "('Done', 3910000)\n",
      "('Done', 3920000)\n",
      "('Done', 3930000)\n",
      "('Done', 3940000)\n",
      "('Done', 3950000)\n",
      "('Done', 3960000)\n",
      "('Done', 3970000)\n",
      "('Done', 3980000)\n",
      "('Done', 3990000)\n",
      "('Done', 4000000)\n",
      "('Done', 4010000)\n",
      "('Done', 4020000)\n",
      "('Done', 4030000)\n",
      "('Done', 4040000)\n",
      "('Done', 4050000)\n",
      "('Done', 4060000)\n",
      "('Done', 4070000)\n",
      "('Done', 4080000)\n",
      "('Done', 4090000)\n",
      "('Done', 4100000)\n",
      "('Done', 4110000)\n",
      "('Done', 4120000)\n",
      "('Done', 4130000)\n",
      "('Done', 4140000)\n",
      "('Done', 4150000)\n",
      "('Done', 4160000)\n",
      "('Done', 4170000)\n",
      "('Done', 4180000)\n",
      "('Done', 4190000)\n",
      "('Done', 4200000)\n",
      "('Done', 4210000)\n",
      "('Done', 4220000)\n",
      "('Done', 4230000)\n",
      "('Done', 4240000)\n",
      "('Done', 4250000)\n",
      "('Done', 4260000)\n",
      "('Done', 4270000)\n",
      "('Done', 4280000)\n",
      "('Done', 4290000)\n",
      "('Done', 4300000)\n",
      "('Done', 4310000)\n",
      "('Done', 4320000)\n",
      "('Done', 4330000)\n",
      "('Done', 4340000)\n",
      "('Done', 4350000)\n",
      "('Done', 4360000)\n",
      "('Done', 4370000)\n",
      "('Done', 4380000)\n",
      "('Done', 4390000)\n",
      "('Done', 4400000)\n",
      "('Done', 4410000)\n",
      "('Done', 4420000)\n",
      "('Done', 4430000)\n",
      "('Done', 4440000)\n",
      "('Done', 4450000)\n",
      "('Done', 4460000)\n",
      "('Done', 4470000)\n",
      "('Done', 4480000)\n",
      "('Done', 4490000)\n",
      "('Done', 4500000)\n",
      "('Done', 4510000)\n",
      "('Done', 4520000)\n",
      "('Done', 4530000)\n",
      "('Done', 4540000)\n",
      "('Done', 4550000)\n",
      "('Done', 4560000)\n",
      "('Done', 4570000)\n",
      "('Done', 4580000)\n",
      "('Done', 4590000)\n",
      "('Done', 4600000)\n",
      "('Done', 4610000)\n",
      "('Done', 4620000)\n",
      "('Done', 4630000)\n",
      "('Done', 4640000)\n",
      "('Done', 4650000)\n",
      "('Done', 4660000)\n",
      "('Done', 4670000)\n",
      "('Done', 4680000)\n",
      "('Done', 4690000)\n",
      "('Done', 4700000)\n",
      "('Done', 4710000)\n",
      "('Done', 4720000)\n",
      "('Done', 4730000)\n",
      "('Done', 4740000)\n",
      "('Done', 4750000)\n",
      "('Done', 4760000)\n",
      "('Done', 4770000)\n",
      "('Done', 4780000)\n",
      "('Done', 4790000)\n",
      "('Done', 4800000)\n",
      "('Done', 4810000)\n",
      "('Done', 4820000)\n",
      "('Done', 4830000)\n",
      "('Done', 4840000)\n",
      "('Done', 4850000)\n",
      "('Done', 4860000)\n",
      "('Done', 4870000)\n",
      "('Done', 4880000)\n",
      "('Done', 4890000)\n",
      "('Done', 4900000)\n",
      "('Done', 4910000)\n",
      "('Done', 4920000)\n",
      "('Done', 4930000)\n",
      "('Done', 4940000)\n",
      "('Done', 4950000)\n",
      "('Done', 4960000)\n",
      "('Done', 4970000)\n",
      "('Done', 4980000)\n",
      "('Done', 4990000)\n",
      "('Done', 5000000)\n",
      "('Done', 5010000)\n",
      "('Done', 5020000)\n",
      "('Done', 5030000)\n",
      "('Done', 5040000)\n",
      "('Done', 5050000)\n",
      "('Done', 5060000)\n",
      "('Done', 5070000)\n",
      "('Done', 5080000)\n",
      "('Done', 5090000)\n",
      "('Done', 5100000)\n",
      "('Done', 5110000)\n",
      "('Done', 5120000)\n",
      "('Done', 5130000)\n",
      "('Done', 5140000)\n",
      "('Done', 5150000)\n",
      "('Done', 5160000)\n",
      "('Done', 5170000)\n",
      "('Done', 5180000)\n",
      "('Done', 5190000)\n",
      "('Done', 5200000)\n",
      "('Done', 5210000)\n",
      "('Done', 5220000)\n",
      "('Done', 5230000)\n",
      "('Done', 5240000)\n",
      "('Done', 5250000)\n",
      "('Done', 5260000)\n",
      "('Done', 5270000)\n",
      "('Done', 5280000)\n",
      "('Done', 5290000)\n",
      "('Done', 5300000)\n",
      "('Done', 5310000)\n",
      "('Done', 5320000)\n",
      "('Done', 5330000)\n",
      "('Done', 5340000)\n",
      "('Done', 5350000)\n",
      "('Done', 5360000)\n",
      "('Done', 5370000)\n",
      "('Done', 5380000)\n",
      "('Done', 5390000)\n",
      "('Done', 5400000)\n",
      "('Done', 5410000)\n",
      "('Done', 5420000)\n",
      "('Done', 5430000)\n",
      "('Done', 5440000)\n",
      "('Done', 5450000)\n",
      "('Done', 5460000)\n",
      "('Done', 5470000)\n",
      "('Done', 5480000)\n",
      "('Done', 5490000)\n",
      "('Done', 5500000)\n",
      "('Done', 5510000)\n",
      "('Done', 5520000)\n",
      "('Done', 5530000)\n",
      "('Done', 5540000)\n",
      "('Done', 5550000)\n",
      "('Done', 5560000)\n",
      "('Done', 5570000)\n",
      "('Done', 5580000)\n",
      "('Done', 5590000)\n",
      "('Done', 5600000)\n",
      "('Done', 5610000)\n",
      "('Done', 5620000)\n",
      "('Done', 5630000)\n",
      "('Done', 5640000)\n",
      "('Done', 5650000)\n",
      "('Done', 5660000)\n",
      "('Done', 5670000)\n",
      "('Done', 5680000)\n",
      "('Done', 5690000)\n",
      "('Done', 5700000)\n",
      "('Done', 5710000)\n",
      "('Done', 5720000)\n",
      "('Done', 5730000)\n",
      "('Done', 5740000)\n",
      "('Done', 5750000)\n",
      "('Done', 5760000)\n",
      "('Done', 5770000)\n",
      "('Done', 5780000)\n",
      "('Done', 5790000)\n",
      "('Done', 5800000)\n",
      "('Done', 5810000)\n",
      "('Done', 5820000)\n",
      "('Done', 5830000)\n",
      "('Done', 5840000)\n",
      "('Done', 5850000)\n",
      "('Done', 5860000)\n",
      "('Done', 5870000)\n",
      "('Done', 5880000)\n",
      "('Done', 5890000)\n",
      "('Done', 5900000)\n",
      "('Done', 5910000)\n",
      "('Done', 5920000)\n",
      "('Done', 5930000)\n",
      "('Done', 5940000)\n",
      "('Done', 5950000)\n",
      "('Done', 5960000)\n",
      "('Done', 5970000)\n",
      "('Done', 5980000)\n",
      "('Done', 5990000)\n",
      "('Done', 6000000)\n"
     ]
    }
   ],
   "source": [
    "scores_ism = np.array(ism_func(input_data_list=[onehot_data],\n",
    "                                       progress_update=10000))"
   ]
  },
  {
   "cell_type": "code",
   "execution_count": 25,
   "metadata": {
    "collapsed": false
   },
   "outputs": [
    {
     "name": "stdout",
     "output_type": "stream",
     "text": [
      "(5000, 400, 4)\n"
     ]
    }
   ],
   "source": [
    "print(scores_ism.shape)"
   ]
  },
  {
   "cell_type": "code",
   "execution_count": 26,
   "metadata": {
    "collapsed": false
   },
   "outputs": [
    {
     "name": "stdout",
     "output_type": "stream",
     "text": [
      "[[ 0.00000000e+00 -0.00000000e+00  0.00000000e+00 -1.64747238e-04]\n",
      " [ 0.00000000e+00  6.69002533e-04 -0.00000000e+00  0.00000000e+00]\n",
      " [ 0.00000000e+00  0.00000000e+00 -0.00000000e+00  4.08887863e-04]\n",
      " ...\n",
      " [-0.00000000e+00 -0.00000000e+00  1.43051147e-06 -0.00000000e+00]\n",
      " [-0.00000000e+00  7.15255737e-07 -0.00000000e+00  0.00000000e+00]\n",
      " [ 4.76837158e-07 -0.00000000e+00 -0.00000000e+00  0.00000000e+00]]\n"
     ]
    }
   ],
   "source": [
    "print(scores_ism[2144])"
   ]
  },
  {
   "cell_type": "code",
   "execution_count": 27,
   "metadata": {
    "collapsed": true
   },
   "outputs": [],
   "source": [
    "np.save(ISM_SCORES_FILE, scores_ism)"
   ]
  },
  {
   "cell_type": "code",
   "execution_count": null,
   "metadata": {
    "collapsed": true
   },
   "outputs": [],
   "source": []
  }
 ],
 "metadata": {
  "anaconda-cloud": {},
  "kernelspec": {
   "display_name": "Python [default]",
   "language": "python",
   "name": "python2"
  },
  "language_info": {
   "codemirror_mode": {
    "name": "ipython",
    "version": 2
   },
   "file_extension": ".py",
   "mimetype": "text/x-python",
   "name": "python",
   "nbconvert_exporter": "python",
   "pygments_lexer": "ipython2",
   "version": "2.7.12"
  }
 },
 "nbformat": 4,
 "nbformat_minor": 2
}
